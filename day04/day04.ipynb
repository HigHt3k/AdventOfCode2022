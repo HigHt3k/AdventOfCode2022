{
 "cells": [
  {
   "cell_type": "code",
   "execution_count": 20,
   "metadata": {
    "collapsed": true
   },
   "outputs": [
    {
     "name": "stdout",
     "output_type": "stream",
     "text": [
      "462\n"
     ]
    }
   ],
   "source": [
    "from pathlib import Path\n",
    "\n",
    "file = open(Path(\"input.txt\"), 'r')\n",
    "\n",
    "# define range\n",
    "def range_definer(r_in):\n",
    "    x_lower, x_upper = r_in.split(\"-\")\n",
    "    return range(int(x_lower), int(x_upper) + 1)\n",
    "\n",
    "# check if one range is subset of the other range\n",
    "def is_subset(range1, range2):\n",
    "    if range2[0] in range1 and range2[-1] in range1:\n",
    "        return True\n",
    "    if range1[0] in range2 and range1[-1] in range2:\n",
    "        return True\n",
    "    return False\n",
    "\n",
    "counter = 0\n",
    "for line in file.readlines():\n",
    "    line = line.strip(\"\\n\")\n",
    "    s1, s2 = line.split(',')\n",
    "    r1 = range_definer(s1)\n",
    "    r2 = range_definer(s2)\n",
    "    if is_subset(r1, r2):\n",
    "        counter += 1\n",
    "\n",
    "print(counter)"
   ]
  },
  {
   "cell_type": "code",
   "execution_count": 21,
   "outputs": [
    {
     "name": "stdout",
     "output_type": "stream",
     "text": [
      "835\n"
     ]
    }
   ],
   "source": [
    "file = open(Path(\"input.txt\"), 'r')\n",
    "\n",
    "#define overlap\n",
    "def is_overlap(range1, range2):\n",
    "    set1 = set(range1)\n",
    "    set2 = set(range2)\n",
    "    if len(set1.intersection(set2)) > 0:\n",
    "        return True\n",
    "    return False\n",
    "\n",
    "counter = 0\n",
    "for line in file.readlines():\n",
    "    line = line.strip(\"\\n\")\n",
    "    s1, s2 = line.split(',')\n",
    "    r1 = range_definer(s1)\n",
    "    r2 = range_definer(s2)\n",
    "    if is_overlap(r1, r2):\n",
    "        counter += 1\n",
    "\n",
    "print(counter)"
   ],
   "metadata": {
    "collapsed": false,
    "pycharm": {
     "name": "#%%\n"
    }
   }
  },
  {
   "cell_type": "code",
   "execution_count": null,
   "outputs": [],
   "source": [],
   "metadata": {
    "collapsed": false,
    "pycharm": {
     "name": "#%%\n"
    }
   }
  }
 ],
 "metadata": {
  "kernelspec": {
   "display_name": "Python 3",
   "language": "python",
   "name": "python3"
  },
  "language_info": {
   "codemirror_mode": {
    "name": "ipython",
    "version": 2
   },
   "file_extension": ".py",
   "mimetype": "text/x-python",
   "name": "python",
   "nbconvert_exporter": "python",
   "pygments_lexer": "ipython2",
   "version": "2.7.6"
  }
 },
 "nbformat": 4,
 "nbformat_minor": 0
}