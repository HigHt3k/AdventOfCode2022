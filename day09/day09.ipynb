{
 "cells": [
  {
   "cell_type": "code",
   "execution_count": 125,
   "metadata": {
    "collapsed": true
   },
   "outputs": [
    {
     "name": "stdout",
     "output_type": "stream",
     "text": [
      "6337\n",
      "2455\n"
     ]
    }
   ],
   "source": [
    "from pathlib import Path\n",
    "\n",
    "debug = False\n",
    "if debug:\n",
    "    file = open(Path(\"debug.txt\"), \"r\")\n",
    "else:\n",
    "    file = open(Path(\"input.txt\"),\"r\")\n",
    "lines = file.read().splitlines()\n",
    "\n",
    "# generate list of moves and catch highest number to create the grid\n",
    "moves = []\n",
    "for line in lines:\n",
    "    move = line.split(\" \")\n",
    "    for i in range(0, int(move[1])):\n",
    "        moves.append(move[0])\n",
    "\n",
    "# get the move in vectorial form\n",
    "def move_vector(direction: str):\n",
    "    if direction == \"D\":\n",
    "        return [0, -1]\n",
    "    elif direction == \"U\":\n",
    "        return [0, 1]\n",
    "    elif direction == \"L\":\n",
    "        return [-1, 0]\n",
    "    elif direction == \"R\":\n",
    "        return [1, 0]\n",
    "    else:\n",
    "        print(\"Invalid Move Command!\")\n",
    "        exit(-1)\n",
    "\n",
    "# move the tail around\n",
    "def move_tail(head: list[int], tail: list[int]) -> None:\n",
    "    # distance between 2 points is vector of p1 - p2\n",
    "    delta = [x - y for x, y in zip(head, tail)]\n",
    "    # if the absolute value of x or y component is larger than 1, then the tail needs to move, else not\n",
    "    if abs(delta[0]) > 1 or abs(delta[1]) > 1:\n",
    "        # move all tail parts around:\n",
    "        # move tail from current position n -1 / +1 / 0 based on delta vector\n",
    "        tail[:] = [n + (1 if deltan >= 1 else -1 if deltan <= -1 else 0) for n, deltan in zip(tail, delta)]\n",
    "\n",
    "# define start\n",
    "head = [0, 0]\n",
    "tail = [0, 0]\n",
    "\n",
    "# define visited points set (all unique)\n",
    "visited = set()\n",
    "\n",
    "for move in moves:\n",
    "    head = [x + y for x, y in zip(head, move_vector(move))]\n",
    "    move_tail(head, tail)\n",
    "    visited.add(tuple(tail))\n",
    "\n",
    "print(len(visited))\n",
    "\n",
    "# part 2\n",
    "# define start\n",
    "head = [0, 0]\n",
    "tail = [0, 0]\n",
    "long_tail = [[0, 0] for _ in range(9)]\n",
    "\n",
    "visited = set()\n",
    "\n",
    "for move in moves:\n",
    "    head = [x + y for x, y in zip(head, move_vector(move))]\n",
    "    move_tail(head, tail)\n",
    "\n",
    "    for i in range(len(long_tail)):\n",
    "        move_tail(head if i == 0 else long_tail[i - 1], long_tail[i])\n",
    "        if i == len(long_tail)-1:\n",
    "            visited.add(tuple(long_tail[i]))\n",
    "\n",
    "print(len(visited))"
   ]
  },
  {
   "cell_type": "code",
   "execution_count": 102,
   "outputs": [
    {
     "name": "stdout",
     "output_type": "stream",
     "text": [
      "Counted visited nodes: 6374\n"
     ]
    }
   ],
   "source": [],
   "metadata": {
    "collapsed": false
   }
  }
 ],
 "metadata": {
  "kernelspec": {
   "display_name": "Python 3",
   "language": "python",
   "name": "python3"
  },
  "language_info": {
   "codemirror_mode": {
    "name": "ipython",
    "version": 2
   },
   "file_extension": ".py",
   "mimetype": "text/x-python",
   "name": "python",
   "nbconvert_exporter": "python",
   "pygments_lexer": "ipython2",
   "version": "2.7.6"
  }
 },
 "nbformat": 4,
 "nbformat_minor": 0
}
