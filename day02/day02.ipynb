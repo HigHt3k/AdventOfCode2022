{
 "cells": [
  {
   "cell_type": "code",
   "execution_count": 12,
   "metadata": {
    "collapsed": true,
    "pycharm": {
     "name": "#%%\n"
    }
   },
   "outputs": [
    {
     "name": "stdout",
     "output_type": "stream",
     "text": [
      "14531\n"
     ]
    }
   ],
   "source": [
    "## Day02 Part 1\n",
    "from pathlib import Path\n",
    "\n",
    "# A: Rock\n",
    "# B: Paper\n",
    "# C: Scissor\n",
    "# X: Rock\n",
    "# Y: Paper\n",
    "# Z: Scissor\n",
    "\n",
    "# define win-lose-draw matrix:\n",
    "#       A   B   C\n",
    "# X     3   0   6\n",
    "# Y     6   3   0\n",
    "# Z     0   6   3\n",
    "wldLUT = {\n",
    "    'A' : {\n",
    "        'X' : 3,\n",
    "        'Y' : 6,\n",
    "        'Z' : 0\n",
    "    },\n",
    "    'B' : {\n",
    "        'X' : 0,\n",
    "        'Y' : 3,\n",
    "        'Z' : 6\n",
    "    },\n",
    "    'C' : {\n",
    "        'X' : 6,\n",
    "        'Y' : 0,\n",
    "        'Z' : 3\n",
    "    }\n",
    "}\n",
    "\n",
    "# define number values\n",
    "rpsLUT = {'X' : 1, 'Y' : 2, 'Z' : 3}\n",
    "\n",
    "# define rock_paper_scissor value\n",
    "def rock_paper_scissor(enemy, me):\n",
    "    assert enemy in ['A','B','C']\n",
    "    assert me in ['X','Y','Z']\n",
    "    return rpsLUT[me] + wldLUT[enemy][me]\n",
    "\n",
    "assert rock_paper_scissor('B','X') == 1\n",
    "\n",
    "file = open(Path(\"input.txt\"), 'r')\n",
    "\n",
    "total_score = 0\n",
    "for l in file.readlines():\n",
    "    l = l.strip('\\n')\n",
    "    enemy, me = l.split(' ')\n",
    "    total_score += rock_paper_scissor(enemy, me)\n",
    "\n",
    "print(total_score)"
   ]
  },
  {
   "cell_type": "code",
   "execution_count": 19,
   "outputs": [
    {
     "name": "stdout",
     "output_type": "stream",
     "text": [
      "11258\n"
     ]
    }
   ],
   "source": [
    "## Day02 Part 2\n",
    "# X: need to lose\n",
    "# y: need to draw\n",
    "# z: need to win\n",
    "\n",
    "# define new LUT\n",
    "wldLUT2 = {\n",
    "    'A' : {\n",
    "        'X' : 's',\n",
    "        'Y' : 'r',\n",
    "        'Z' : 'p'\n",
    "    },\n",
    "    'B' : {\n",
    "        'X' : 'r',\n",
    "        'Y' : 'p',\n",
    "        'Z' : 's'\n",
    "    },\n",
    "    'C' : {\n",
    "        'X' : 'p',\n",
    "        'Y' : 's',\n",
    "        'Z' : 'r'\n",
    "    }\n",
    "}\n",
    "\n",
    "rpsLUT2 = {'r' : 1, 'p' : 2, 's' : 3}\n",
    "scoreLUT = {'X' : 0, 'Y' : 3, 'Z' : 6}\n",
    "def rock_paper_scissor2(enemy, me):\n",
    "    assert enemy in ['A','B','C']\n",
    "    assert me in ['X','Y','Z']\n",
    "    return scoreLUT[me] + rpsLUT2[wldLUT2[enemy][me]]\n",
    "\n",
    "assert rock_paper_scissor2('A','Y') == 4\n",
    "assert rock_paper_scissor2('B','X') == 1\n",
    "\n",
    "file = open(Path(\"input.txt\"), 'r')\n",
    "total_score = 0\n",
    "for l in file.readlines():\n",
    "    l = l.strip('\\n')\n",
    "    enemy, me = l.split(' ')\n",
    "    total_score += rock_paper_scissor2(enemy, me)\n",
    "\n",
    "print(total_score)"
   ],
   "metadata": {
    "collapsed": false,
    "pycharm": {
     "name": "#%%\n"
    }
   }
  },
  {
   "cell_type": "code",
   "execution_count": null,
   "outputs": [],
   "source": [],
   "metadata": {
    "collapsed": false,
    "pycharm": {
     "name": "#%%\n"
    }
   }
  }
 ],
 "metadata": {
  "kernelspec": {
   "display_name": "Python 3",
   "language": "python",
   "name": "python3"
  },
  "language_info": {
   "codemirror_mode": {
    "name": "ipython",
    "version": 2
   },
   "file_extension": ".py",
   "mimetype": "text/x-python",
   "name": "python",
   "nbconvert_exporter": "python",
   "pygments_lexer": "ipython2",
   "version": "2.7.6"
  }
 },
 "nbformat": 4,
 "nbformat_minor": 0
}