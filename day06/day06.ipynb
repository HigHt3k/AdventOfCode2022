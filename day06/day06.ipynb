{
 "cells": [
  {
   "cell_type": "code",
   "execution_count": 34,
   "metadata": {
    "collapsed": true
   },
   "outputs": [
    {
     "name": "stdout",
     "output_type": "stream",
     "text": [
      "1658\n",
      "['s', 'b', 'l', 'q']\n",
      "2260\n",
      "['c', 't', 'l', 'w', 'q', 'h', 'f', 'n', 'b', 'm', 'g', 's', 'p', 'r']\n"
     ]
    }
   ],
   "source": [
    "from pathlib import Path\n",
    "\n",
    "file = open(Path(\"input.txt\"), 'r')\n",
    "\n",
    "datastream_buffer = file.read().strip(\"\\n\")\n",
    "\n",
    "# create marker\n",
    "def create_marker(n_distinct):\n",
    "    return ['' for x in range(n_distinct)]\n",
    "\n",
    "# check if the marker contains only unique values and not ''\n",
    "def check_marker_unique(m):\n",
    "    if '' in m:\n",
    "        return False\n",
    "    if len(m) == len(set(m)):\n",
    "        return True\n",
    "    return False\n",
    "\n",
    "def find_marker(datastream, mark):\n",
    "    for index, d in enumerate(datastream):\n",
    "        if check_marker_unique(mark):\n",
    "            print(index)\n",
    "            break\n",
    "        mark.pop()\n",
    "        mark.insert(0, d)\n",
    "    mark.reverse()\n",
    "    print(mark)\n",
    "\n",
    "# start of packet marker (task 01)\n",
    "marker = create_marker(4)\n",
    "find_marker(datastream_buffer, marker)\n",
    "\n",
    "# start of message marker (task 02)\n",
    "marker = create_marker(14)\n",
    "find_marker(datastream_buffer, marker) \n"
   ]
  }
 ],
 "metadata": {
  "kernelspec": {
   "display_name": "Python 3",
   "language": "python",
   "name": "python3"
  },
  "language_info": {
   "codemirror_mode": {
    "name": "ipython",
    "version": 2
   },
   "file_extension": ".py",
   "mimetype": "text/x-python",
   "name": "python",
   "nbconvert_exporter": "python",
   "pygments_lexer": "ipython2",
   "version": "2.7.6"
  }
 },
 "nbformat": 4,
 "nbformat_minor": 0
}