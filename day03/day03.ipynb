{
 "cells": [
  {
   "cell_type": "code",
   "execution_count": 22,
   "metadata": {
    "collapsed": true
   },
   "outputs": [
    {
     "name": "stdout",
     "output_type": "stream",
     "text": [
      "7845\n"
     ]
    }
   ],
   "source": [
    "from pathlib import Path\n",
    "import string\n",
    "\n",
    "file = open(Path(\"input.txt\"), 'r')\n",
    "## part 1\n",
    "\n",
    "# define letters\n",
    "alphabet_l = list(string.ascii_lowercase)\n",
    "alphabet_u = list(string.ascii_uppercase)\n",
    "# define prio LUT\n",
    "prio_lut = {}\n",
    "for letter in alphabet_l:\n",
    "    prio_lut[letter] = ord(letter) - 96\n",
    "for letter in alphabet_u:\n",
    "    prio_lut[letter] = ord(letter) - 64 + 26\n",
    "\n",
    "# define method to compare\n",
    "def compare(side_a, side_b):\n",
    "    return (set(side_a).intersection(set(side_b))).pop()\n",
    "\n",
    "total_priority_score = 0\n",
    "for line in file.readlines():\n",
    "    line = line.strip(\"\\n\")\n",
    "    side_a = line[:len(line)//2]\n",
    "    side_b = line[len(line)//2:]\n",
    "    total_priority_score += prio_lut[compare(side_a, side_b)]\n",
    "\n",
    "print(total_priority_score)"
   ]
  },
  {
   "cell_type": "code",
   "execution_count": 23,
   "outputs": [
    {
     "name": "stdout",
     "output_type": "stream",
     "text": [
      "2790\n"
     ]
    }
   ],
   "source": [
    "## part 2\n",
    "file = open(Path(\"input.txt\"), 'r')\n",
    "\n",
    "def find_badge(elf_a, elf_b, elf_c):\n",
    "    return (set(elf_a).intersection(set(elf_b).intersection(set(elf_c)))).pop()\n",
    "\n",
    "total_badge_score = 0\n",
    "lines = file.readlines()\n",
    "for i in range(0, len(lines)-1, 3):\n",
    "    line_a = lines[i].strip(\"\\n\")\n",
    "    line_b = lines[i+1].strip(\"\\n\")\n",
    "    line_c = lines[i+2].strip(\"\\n\")\n",
    "    total_badge_score += prio_lut[find_badge(line_a, line_b, line_c)]\n",
    "\n",
    "print(total_badge_score)"
   ],
   "metadata": {
    "collapsed": false,
    "pycharm": {
     "name": "#%%\n"
    }
   }
  },
  {
   "cell_type": "code",
   "execution_count": null,
   "outputs": [],
   "source": [],
   "metadata": {
    "collapsed": false,
    "pycharm": {
     "name": "#%%\n"
    }
   }
  }
 ],
 "metadata": {
  "kernelspec": {
   "display_name": "Python 3",
   "language": "python",
   "name": "python3"
  },
  "language_info": {
   "codemirror_mode": {
    "name": "ipython",
    "version": 2
   },
   "file_extension": ".py",
   "mimetype": "text/x-python",
   "name": "python",
   "nbconvert_exporter": "python",
   "pygments_lexer": "ipython2",
   "version": "2.7.6"
  }
 },
 "nbformat": 4,
 "nbformat_minor": 0
}