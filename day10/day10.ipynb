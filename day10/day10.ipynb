{
 "cells": [
  {
   "cell_type": "code",
   "execution_count": 46,
   "metadata": {
    "collapsed": true
   },
   "outputs": [
    {
     "name": "stdout",
     "output_type": "stream",
     "text": [
      "13440\n",
      "###..###..####..##..###...##..####..##..\n",
      "#..#.#..#....#.#..#.#..#.#..#....#.#..#.\n",
      "#..#.###....#..#....#..#.#..#...#..#..#.\n",
      "###..#..#..#...#.##.###..####..#...####.\n",
      "#....#..#.#....#..#.#.#..#..#.#....#..#.\n",
      "#....###..####..###.#..#.#..#.####.#..#.\n"
     ]
    }
   ],
   "source": [
    "from pathlib import Path\n",
    "\n",
    "file = open(Path(\"input.txt\"), \"r\")\n",
    "commands = file.read().splitlines()\n",
    "\n",
    "# process the commands\n",
    "def process(commands):\n",
    "    register = 1\n",
    "    cycle_values = [register]\n",
    "    for command in commands:\n",
    "        if command == \"noop\":\n",
    "            cycle_values.append(register)\n",
    "        elif \"addx\" in command:\n",
    "            cycle_values.append(register)\n",
    "            cycle_values.append(register)\n",
    "            register += int(command.split(\"addx\" )[1])\n",
    "    cycle_values.append(register)\n",
    "    return cycle_values\n",
    "\n",
    "# calc the sum of signal values at specified cycles\n",
    "def sum_register(cycle_vals, at_cycles):\n",
    "    sum = 0\n",
    "    for cyc in at_cycles:\n",
    "        sum += cycle_vals[cyc] * cyc\n",
    "    return sum\n",
    "\n",
    "# part 1\n",
    "print_at = [20, 60, 100, 140, 180, 220]\n",
    "cycle_values = process(commands=commands)\n",
    "print(sum_register(cycle_values, print_at))\n",
    "\n",
    "# part 2\n",
    "pixels = [[\".\" for x in range(40)] for y in range(6)]\n",
    "\n",
    "for i in range(1, len(cycle_values)):\n",
    "    r = int(i / 40)\n",
    "    c = i - 40 * r - 1\n",
    "    if (cycle_values[i] == c) or (cycle_values[i] == c-1) or (cycle_values[i] == c+1):\n",
    "        pixels[r][c] = \"#\"\n",
    "\n",
    "for row in pixels:\n",
    "    s = \"\"\n",
    "    for pixel in row:\n",
    "        s+=pixel\n",
    "    print(s)"
   ]
  }
 ],
 "metadata": {
  "kernelspec": {
   "display_name": "Python 3",
   "language": "python",
   "name": "python3"
  },
  "language_info": {
   "codemirror_mode": {
    "name": "ipython",
    "version": 2
   },
   "file_extension": ".py",
   "mimetype": "text/x-python",
   "name": "python",
   "nbconvert_exporter": "python",
   "pygments_lexer": "ipython2",
   "version": "2.7.6"
  }
 },
 "nbformat": 4,
 "nbformat_minor": 0
}
